{
 "cells": [
  {
   "cell_type": "markdown",
   "id": "b5ccea02",
   "metadata": {},
   "source": [
    "# Vigenere Cipher"
   ]
  },
  {
   "cell_type": "markdown",
   "id": "093b6f85",
   "metadata": {},
   "source": [
    "## Importing Necessary Modules"
   ]
  },
  {
   "cell_type": "code",
   "execution_count": 1,
   "id": "edac5b7b",
   "metadata": {},
   "outputs": [],
   "source": [
    "import numpy as np\n",
    "import math"
   ]
  },
  {
   "cell_type": "markdown",
   "id": "621728c8",
   "metadata": {},
   "source": [
    "## Creating Key"
   ]
  },
  {
   "cell_type": "code",
   "execution_count": 2,
   "id": "d7dd103c",
   "metadata": {},
   "outputs": [],
   "source": [
    "def makekey(plaintext, keyword):\n",
    "    k = keyword\n",
    "    if len(plaintext) == len(keyword):\n",
    "        return k\n",
    "    else:\n",
    "        for i in range(len(plaintext)-len(keyword)):\n",
    "            k += keyword[i % len(keyword)]\n",
    "    return k"
   ]
  },
  {
   "cell_type": "markdown",
   "id": "f102f28f",
   "metadata": {},
   "source": [
    "## Defining Encryption and Decryption"
   ]
  },
  {
   "cell_type": "code",
   "execution_count": 3,
   "id": "5050e398",
   "metadata": {},
   "outputs": [],
   "source": [
    "def encrypt(plaintext, key):\n",
    "    P = plaintext.upper()\n",
    "    p = P.replace(\" \", \"\")\n",
    "    k = key.upper()\n",
    "    l = len(key)\n",
    "    \n",
    "    ord_key = [ord(i) for i in k]\n",
    "    ord_p = [ord(i) for i in p]\n",
    "    \n",
    "    cipher = ''\n",
    "    \n",
    "    for i in range(len(ord_p)):\n",
    "        value = (ord_p[i] + ord_key[i % l]) % 26\n",
    "        cipher += chr(value + 66)\n",
    "    return cipher"
   ]
  },
  {
   "cell_type": "code",
   "execution_count": 4,
   "id": "4faf2383",
   "metadata": {},
   "outputs": [],
   "source": [
    "def decrypt(cipher, key):\n",
    "    c = cipher.upper()\n",
    "    k = key.upper()\n",
    "    l = len(key)\n",
    "    \n",
    "    ord_key = [ord(i) for i in k]\n",
    "    ord_cipher = [ord(i) for i in c]\n",
    "    \n",
    "    plaintext = ''\n",
    "    \n",
    "    for i in range(len(ord_cipher)):\n",
    "        value = (ord_cipher[i] - ord_key[i % l]) % 26\n",
    "        plaintext += chr(value + 64)\n",
    "    return plaintext"
   ]
  },
  {
   "cell_type": "markdown",
   "id": "f0cfb76e",
   "metadata": {},
   "source": [
    "## Implementing"
   ]
  },
  {
   "cell_type": "code",
   "execution_count": 5,
   "id": "8dfcea4c",
   "metadata": {},
   "outputs": [],
   "source": [
    "plaintext = \"Hello I am here\"\n",
    "key = \"abc\""
   ]
  },
  {
   "cell_type": "code",
   "execution_count": 6,
   "id": "977bb587",
   "metadata": {
    "scrolled": false
   },
   "outputs": [
    {
     "name": "stdout",
     "output_type": "stream",
     "text": [
      "IGOMQLBOKFTH\n"
     ]
    }
   ],
   "source": [
    "cipher = encrypt(plaintext,key)\n",
    "print(cipher)"
   ]
  },
  {
   "cell_type": "code",
   "execution_count": 7,
   "id": "b6f0b645",
   "metadata": {},
   "outputs": [
    {
     "name": "stdout",
     "output_type": "stream",
     "text": [
      "HELLOIAMHERE\n"
     ]
    }
   ],
   "source": [
    "x = decrypt(cipher, key)\n",
    "print(x)"
   ]
  }
 ],
 "metadata": {
  "kernelspec": {
   "display_name": "Python 3 (ipykernel)",
   "language": "python",
   "name": "python3"
  },
  "language_info": {
   "codemirror_mode": {
    "name": "ipython",
    "version": 3
   },
   "file_extension": ".py",
   "mimetype": "text/x-python",
   "name": "python",
   "nbconvert_exporter": "python",
   "pygments_lexer": "ipython3",
   "version": "3.9.7"
  }
 },
 "nbformat": 4,
 "nbformat_minor": 5
}
